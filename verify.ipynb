{
 "cells": [
  {
   "cell_type": "code",
   "execution_count": 13,
   "id": "65e2bcd3-b439-4c02-b485-83dd7b530b3e",
   "metadata": {
    "tags": []
   },
   "outputs": [
    {
     "name": "stdout",
     "output_type": "stream",
     "text": [
      " Accuracy: 100.0\n"
     ]
    }
   ],
   "source": [
    "import numpy as np\n",
    "\n",
    "M = 4\n",
    "K = 4\n",
    "\n",
    "matrix_A = np.arange(1, M * K + 1).reshape(M, K)\n",
    "matrix_AA = np.dot(matrix_A, matrix_A)\n",
    "\n",
    "file_path = 'mpi_matrix_output.txt' \n",
    "\n",
    "with open(file_path, 'r') as file:\n",
    "    lines = file.readlines()\n",
    "\n",
    "matrix_C = np.array([list(map(float, line.split())) for line in lines])\n",
    "\n",
    "def calculate_accuracy(matrix_pred, matrix_true, tolerance=1e-5):\n",
    "    diff = np.abs(matrix_pred - matrix_true)\n",
    "    correct_elements = np.sum(diff <= tolerance)\n",
    "    \n",
    "    # Total elements for comparison\n",
    "    total_elements = matrix_pred.size\n",
    "    \n",
    "    # Calculate accuracy as the percentage of correct elements\n",
    "    accuracy = (correct_elements / total_elements) * 100\n",
    "    return accuracy\n",
    "\n",
    "\n",
    "print(f\" Accuracy (CPU vs GPU) : {calculate_accuracy(matrix_AA, matrix_C)}\")\n"
   ]
  },
  {
   "cell_type": "code",
   "execution_count": null,
   "id": "127fe3a8-cb20-46b8-9d08-2dee53af624d",
   "metadata": {},
   "outputs": [],
   "source": []
  }
 ],
 "metadata": {
  "kernelspec": {
   "display_name": "Python 3 (ipykernel)",
   "language": "python",
   "name": "python3"
  },
  "language_info": {
   "codemirror_mode": {
    "name": "ipython",
    "version": 3
   },
   "file_extension": ".py",
   "mimetype": "text/x-python",
   "name": "python",
   "nbconvert_exporter": "python",
   "pygments_lexer": "ipython3",
   "version": "3.11.4"
  }
 },
 "nbformat": 4,
 "nbformat_minor": 5
}
